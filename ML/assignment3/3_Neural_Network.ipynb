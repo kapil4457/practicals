{
 "cells": [
  {
   "cell_type": "code",
   "execution_count": 1,
   "metadata": {
    "id": "atw2Xac9I0xl"
   },
   "outputs": [],
   "source": [
    "import numpy as np\n",
    "import matplotlib.pyplot as plt\n",
    "import pandas as pd\n",
    "import seaborn as sns\n",
    "sns.set()"
   ]
  },
  {
   "cell_type": "code",
   "execution_count": 2,
   "metadata": {
    "colab": {
     "base_uri": "https://localhost:8080/",
     "height": 302
    },
    "id": "NPfi2q75I0xl",
    "outputId": "1f049900-3b13-433a-fa05-c439e3d9c2de"
   },
   "outputs": [
    {
     "data": {
      "text/html": [
       "<div>\n",
       "<style scoped>\n",
       "    .dataframe tbody tr th:only-of-type {\n",
       "        vertical-align: middle;\n",
       "    }\n",
       "\n",
       "    .dataframe tbody tr th {\n",
       "        vertical-align: top;\n",
       "    }\n",
       "\n",
       "    .dataframe thead th {\n",
       "        text-align: right;\n",
       "    }\n",
       "</style>\n",
       "<table border=\"1\" class=\"dataframe\">\n",
       "  <thead>\n",
       "    <tr style=\"text-align: right;\">\n",
       "      <th></th>\n",
       "      <th>CustomerId</th>\n",
       "      <th>Surname</th>\n",
       "      <th>CreditScore</th>\n",
       "      <th>Geography</th>\n",
       "      <th>Gender</th>\n",
       "      <th>Age</th>\n",
       "      <th>Tenure</th>\n",
       "      <th>Balance</th>\n",
       "      <th>NumOfProducts</th>\n",
       "      <th>HasCrCard</th>\n",
       "      <th>IsActiveMember</th>\n",
       "      <th>EstimatedSalary</th>\n",
       "      <th>Exited</th>\n",
       "    </tr>\n",
       "    <tr>\n",
       "      <th>RowNumber</th>\n",
       "      <th></th>\n",
       "      <th></th>\n",
       "      <th></th>\n",
       "      <th></th>\n",
       "      <th></th>\n",
       "      <th></th>\n",
       "      <th></th>\n",
       "      <th></th>\n",
       "      <th></th>\n",
       "      <th></th>\n",
       "      <th></th>\n",
       "      <th></th>\n",
       "      <th></th>\n",
       "    </tr>\n",
       "  </thead>\n",
       "  <tbody>\n",
       "    <tr>\n",
       "      <th>1</th>\n",
       "      <td>15634602</td>\n",
       "      <td>Hargrave</td>\n",
       "      <td>619</td>\n",
       "      <td>France</td>\n",
       "      <td>Female</td>\n",
       "      <td>42</td>\n",
       "      <td>2</td>\n",
       "      <td>0.00</td>\n",
       "      <td>1</td>\n",
       "      <td>1</td>\n",
       "      <td>1</td>\n",
       "      <td>101348.88</td>\n",
       "      <td>1</td>\n",
       "    </tr>\n",
       "    <tr>\n",
       "      <th>2</th>\n",
       "      <td>15647311</td>\n",
       "      <td>Hill</td>\n",
       "      <td>608</td>\n",
       "      <td>Spain</td>\n",
       "      <td>Female</td>\n",
       "      <td>41</td>\n",
       "      <td>1</td>\n",
       "      <td>83807.86</td>\n",
       "      <td>1</td>\n",
       "      <td>0</td>\n",
       "      <td>1</td>\n",
       "      <td>112542.58</td>\n",
       "      <td>0</td>\n",
       "    </tr>\n",
       "    <tr>\n",
       "      <th>3</th>\n",
       "      <td>15619304</td>\n",
       "      <td>Onio</td>\n",
       "      <td>502</td>\n",
       "      <td>France</td>\n",
       "      <td>Female</td>\n",
       "      <td>42</td>\n",
       "      <td>8</td>\n",
       "      <td>159660.80</td>\n",
       "      <td>3</td>\n",
       "      <td>1</td>\n",
       "      <td>0</td>\n",
       "      <td>113931.57</td>\n",
       "      <td>1</td>\n",
       "    </tr>\n",
       "    <tr>\n",
       "      <th>4</th>\n",
       "      <td>15701354</td>\n",
       "      <td>Boni</td>\n",
       "      <td>699</td>\n",
       "      <td>France</td>\n",
       "      <td>Female</td>\n",
       "      <td>39</td>\n",
       "      <td>1</td>\n",
       "      <td>0.00</td>\n",
       "      <td>2</td>\n",
       "      <td>0</td>\n",
       "      <td>0</td>\n",
       "      <td>93826.63</td>\n",
       "      <td>0</td>\n",
       "    </tr>\n",
       "    <tr>\n",
       "      <th>5</th>\n",
       "      <td>15737888</td>\n",
       "      <td>Mitchell</td>\n",
       "      <td>850</td>\n",
       "      <td>Spain</td>\n",
       "      <td>Female</td>\n",
       "      <td>43</td>\n",
       "      <td>2</td>\n",
       "      <td>125510.82</td>\n",
       "      <td>1</td>\n",
       "      <td>1</td>\n",
       "      <td>1</td>\n",
       "      <td>79084.10</td>\n",
       "      <td>0</td>\n",
       "    </tr>\n",
       "  </tbody>\n",
       "</table>\n",
       "</div>"
      ],
      "text/plain": [
       "           CustomerId   Surname  CreditScore Geography  Gender  Age  Tenure   \n",
       "RowNumber                                                                     \n",
       "1            15634602  Hargrave          619    France  Female   42       2  \\\n",
       "2            15647311      Hill          608     Spain  Female   41       1   \n",
       "3            15619304      Onio          502    France  Female   42       8   \n",
       "4            15701354      Boni          699    France  Female   39       1   \n",
       "5            15737888  Mitchell          850     Spain  Female   43       2   \n",
       "\n",
       "             Balance  NumOfProducts  HasCrCard  IsActiveMember   \n",
       "RowNumber                                                        \n",
       "1               0.00              1          1               1  \\\n",
       "2           83807.86              1          0               1   \n",
       "3          159660.80              3          1               0   \n",
       "4               0.00              2          0               0   \n",
       "5          125510.82              1          1               1   \n",
       "\n",
       "           EstimatedSalary  Exited  \n",
       "RowNumber                           \n",
       "1                101348.88       1  \n",
       "2                112542.58       0  \n",
       "3                113931.57       1  \n",
       "4                 93826.63       0  \n",
       "5                 79084.10       0  "
      ]
     },
     "execution_count": 2,
     "metadata": {},
     "output_type": "execute_result"
    }
   ],
   "source": [
    "dataset = pd.read_csv('Churn_Modelling.csv', index_col = 'RowNumber')\n",
    "dataset.head()\n"
   ]
  },
  {
   "cell_type": "code",
   "execution_count": 3,
   "metadata": {
    "colab": {
     "base_uri": "https://localhost:8080/"
    },
    "id": "jelFHwknI0xm",
    "outputId": "e8e8af69-44e3-4b72-84cf-e15d6b026a5f"
   },
   "outputs": [
    {
     "name": "stdout",
     "output_type": "stream",
     "text": [
      "['CreditScore', 'Geography', 'Gender', 'Age', 'Tenure', 'Balance', 'NumOfProducts', 'HasCrCard', 'IsActiveMember', 'EstimatedSalary']\n",
      "['Exited']\n"
     ]
    }
   ],
   "source": [
    "#Customer ID and Surname would not be relevant as features\n",
    "X_columns = dataset.columns.tolist()[2:12]\n",
    "Y_columns = dataset.columns.tolist()[-1:]\n",
    "print(X_columns)\n",
    "print(Y_columns)"
   ]
  },
  {
   "cell_type": "code",
   "execution_count": 4,
   "metadata": {
    "id": "_EnXaCYmI0xn"
   },
   "outputs": [],
   "source": [
    "X = dataset[X_columns].values \n",
    "Y = dataset[Y_columns].values"
   ]
  },
  {
   "cell_type": "code",
   "execution_count": 5,
   "metadata": {
    "id": "cjbVx3FRI0xn"
   },
   "outputs": [],
   "source": [
    "#We need to encode categorical variables such as geography and gender\n",
    "from sklearn.preprocessing import LabelEncoder\n",
    "X_column_transformer = LabelEncoder()\n",
    "X[:, 1] = X_column_transformer.fit_transform(X[:, 1])"
   ]
  },
  {
   "cell_type": "code",
   "execution_count": 6,
   "metadata": {
    "id": "tS02t4y9I0xn"
   },
   "outputs": [],
   "source": [
    "#Lets Encode gender now\n",
    "X[:, 2] = X_column_transformer.fit_transform(X[:, 2])"
   ]
  },
  {
   "cell_type": "markdown",
   "metadata": {
    "id": "DKwFc-HWI0xo"
   },
   "source": [
    "We are treating countries with ordinal values(0 < 1 < 2) but they are incomparable.\n",
    "To solve this we can use one hot encoding.\n",
    "We will perform some standardization "
   ]
  },
  {
   "cell_type": "code",
   "execution_count": 7,
   "metadata": {
    "id": "v-bI9UNiI0xo"
   },
   "outputs": [],
   "source": [
    "from sklearn.preprocessing import StandardScaler, OneHotEncoder\n",
    "from sklearn.compose import ColumnTransformer\n",
    "from sklearn.pipeline import Pipeline\n",
    "\n",
    "pipeline = Pipeline(\n",
    "    [\n",
    "        ('Categorizer', ColumnTransformer(\n",
    "            [\n",
    "                (\"Gender Label Encoder\", OneHotEncoder(categories = 'auto', drop = 'first'), [2]),\n",
    "                (\"Geography Label Encoder\", OneHotEncoder(categories = 'auto', drop = 'first'), [1])\n",
    "            ], \n",
    "            remainder = 'passthrough', n_jobs = 1)),\n",
    "        ('Normalizer', StandardScaler())\n",
    "    ]\n",
    ")"
   ]
  },
  {
   "cell_type": "code",
   "execution_count": 8,
   "metadata": {
    "id": "7_TO_-fQI0xp"
   },
   "outputs": [],
   "source": [
    "#Standardize the features\n",
    "X = pipeline.fit_transform(X)"
   ]
  },
  {
   "cell_type": "code",
   "execution_count": 9,
   "metadata": {
    "id": "OJ7VUetiI0xq"
   },
   "outputs": [],
   "source": [
    "#Spilt the data\n",
    "from sklearn.model_selection import train_test_split\n",
    "X_train, X_test, y_train, y_test = train_test_split(X, Y, test_size = 0.2, random_state = 0)"
   ]
  },
  {
   "cell_type": "code",
   "execution_count": 10,
   "metadata": {
    "id": "mX35INUFI0xr"
   },
   "outputs": [],
   "source": [
    "#Let us create the Neural Network\n",
    "from keras.models import Sequential\n",
    "from keras.layers import Dense, Dropout"
   ]
  },
  {
   "cell_type": "code",
   "execution_count": 11,
   "metadata": {
    "id": "VYIsyqOUI0xs"
   },
   "outputs": [],
   "source": [
    "#Initialize ANN\n",
    "classifier = Sequential()"
   ]
  },
  {
   "cell_type": "code",
   "execution_count": 12,
   "metadata": {
    "id": "i3nH8oOhJcp8"
   },
   "outputs": [],
   "source": [
    "#Add input layer and hidden layer\n",
    "classifier.add(Dense(6, activation = 'relu', input_shape = (X_train.shape[1], )))\n",
    "classifier.add(Dropout(rate = 0.1))"
   ]
  },
  {
   "cell_type": "code",
   "execution_count": 13,
   "metadata": {
    "id": "gULE3c-YPvsI"
   },
   "outputs": [],
   "source": [
    "#Add second layer\n",
    "classifier.add(Dense(6, activation = 'relu'))\n",
    "classifier.add(Dropout(rate = 0.1))"
   ]
  },
  {
   "cell_type": "code",
   "execution_count": 14,
   "metadata": {
    "id": "j_XpNLaSP9Qk"
   },
   "outputs": [],
   "source": [
    "#Add output layer\n",
    "classifier.add(Dense(1, activation = 'sigmoid'))"
   ]
  },
  {
   "cell_type": "code",
   "execution_count": 15,
   "metadata": {
    "colab": {
     "base_uri": "https://localhost:8080/"
    },
    "id": "5rodKUhIQUWH",
    "outputId": "a8dd63ea-6662-41f3-a43b-4f3f4567a06d"
   },
   "outputs": [
    {
     "name": "stdout",
     "output_type": "stream",
     "text": [
      "Model: \"sequential\"\n",
      "_________________________________________________________________\n",
      " Layer (type)                Output Shape              Param #   \n",
      "=================================================================\n",
      " dense (Dense)               (None, 6)                 72        \n",
      "                                                                 \n",
      " dropout (Dropout)           (None, 6)                 0         \n",
      "                                                                 \n",
      " dense_1 (Dense)             (None, 6)                 42        \n",
      "                                                                 \n",
      " dropout_1 (Dropout)         (None, 6)                 0         \n",
      "                                                                 \n",
      " dense_2 (Dense)             (None, 1)                 7         \n",
      "                                                                 \n",
      "=================================================================\n",
      "Total params: 121 (484.00 Byte)\n",
      "Trainable params: 121 (484.00 Byte)\n",
      "Non-trainable params: 0 (0.00 Byte)\n",
      "_________________________________________________________________\n"
     ]
    }
   ],
   "source": [
    "#Let us take a look at our network\n",
    "classifier.summary()"
   ]
  },
  {
   "cell_type": "code",
   "execution_count": 16,
   "metadata": {
    "id": "XfHGyyviSXed"
   },
   "outputs": [],
   "source": [
    "#Optimize the weights\n",
    "classifier.compile(optimizer = 'adam', loss = 'binary_crossentropy', metrics = ['accuracy'])"
   ]
  },
  {
   "cell_type": "code",
   "execution_count": 17,
   "metadata": {
    "colab": {
     "base_uri": "https://localhost:8080/"
    },
    "id": "7px7qzJQVhan",
    "outputId": "09d47fa7-684c-424c-f144-e86492bcfa24"
   },
   "outputs": [
    {
     "name": "stdout",
     "output_type": "stream",
     "text": [
      "Epoch 1/200\n",
      "225/225 - 3s - loss: 0.5755 - accuracy: 0.7785 - val_loss: 0.5237 - val_accuracy: 0.7950 - 3s/epoch - 12ms/step\n",
      "Epoch 2/200\n",
      "225/225 - 1s - loss: 0.5121 - accuracy: 0.7933 - val_loss: 0.4776 - val_accuracy: 0.7937 - 530ms/epoch - 2ms/step\n",
      "Epoch 3/200\n",
      "225/225 - 1s - loss: 0.4815 - accuracy: 0.7946 - val_loss: 0.4511 - val_accuracy: 0.8025 - 596ms/epoch - 3ms/step\n",
      "Epoch 4/200\n",
      "225/225 - 1s - loss: 0.4682 - accuracy: 0.7981 - val_loss: 0.4399 - val_accuracy: 0.8012 - 586ms/epoch - 3ms/step\n",
      "Epoch 5/200\n",
      "225/225 - 1s - loss: 0.4598 - accuracy: 0.8003 - val_loss: 0.4327 - val_accuracy: 0.8125 - 579ms/epoch - 3ms/step\n",
      "Epoch 6/200\n",
      "225/225 - 1s - loss: 0.4546 - accuracy: 0.7989 - val_loss: 0.4278 - val_accuracy: 0.8112 - 632ms/epoch - 3ms/step\n",
      "Epoch 7/200\n",
      "225/225 - 1s - loss: 0.4496 - accuracy: 0.8037 - val_loss: 0.4240 - val_accuracy: 0.8125 - 745ms/epoch - 3ms/step\n",
      "Epoch 8/200\n",
      "225/225 - 1s - loss: 0.4454 - accuracy: 0.8037 - val_loss: 0.4209 - val_accuracy: 0.8087 - 644ms/epoch - 3ms/step\n",
      "Epoch 9/200\n",
      "225/225 - 1s - loss: 0.4424 - accuracy: 0.8054 - val_loss: 0.4178 - val_accuracy: 0.8112 - 612ms/epoch - 3ms/step\n",
      "Epoch 10/200\n",
      "225/225 - 1s - loss: 0.4417 - accuracy: 0.8100 - val_loss: 0.4154 - val_accuracy: 0.8125 - 562ms/epoch - 2ms/step\n",
      "Epoch 11/200\n",
      "225/225 - 1s - loss: 0.4384 - accuracy: 0.8097 - val_loss: 0.4146 - val_accuracy: 0.8163 - 547ms/epoch - 2ms/step\n",
      "Epoch 12/200\n",
      "225/225 - 1s - loss: 0.4383 - accuracy: 0.8090 - val_loss: 0.4135 - val_accuracy: 0.8175 - 617ms/epoch - 3ms/step\n",
      "Epoch 13/200\n",
      "225/225 - 1s - loss: 0.4354 - accuracy: 0.8092 - val_loss: 0.4123 - val_accuracy: 0.8188 - 713ms/epoch - 3ms/step\n",
      "Epoch 14/200\n",
      "225/225 - 1s - loss: 0.4346 - accuracy: 0.8117 - val_loss: 0.4107 - val_accuracy: 0.8238 - 530ms/epoch - 2ms/step\n",
      "Epoch 15/200\n",
      "225/225 - 1s - loss: 0.4354 - accuracy: 0.8112 - val_loss: 0.4094 - val_accuracy: 0.8238 - 794ms/epoch - 4ms/step\n",
      "Epoch 16/200\n",
      "225/225 - 1s - loss: 0.4326 - accuracy: 0.8138 - val_loss: 0.4079 - val_accuracy: 0.8250 - 624ms/epoch - 3ms/step\n",
      "Epoch 17/200\n",
      "225/225 - 1s - loss: 0.4373 - accuracy: 0.8157 - val_loss: 0.4077 - val_accuracy: 0.8263 - 581ms/epoch - 3ms/step\n",
      "Epoch 18/200\n",
      "225/225 - 1s - loss: 0.4336 - accuracy: 0.8129 - val_loss: 0.4061 - val_accuracy: 0.8263 - 704ms/epoch - 3ms/step\n",
      "Epoch 19/200\n",
      "225/225 - 1s - loss: 0.4292 - accuracy: 0.8156 - val_loss: 0.4057 - val_accuracy: 0.8263 - 603ms/epoch - 3ms/step\n",
      "Epoch 20/200\n",
      "225/225 - 1s - loss: 0.4302 - accuracy: 0.8156 - val_loss: 0.4048 - val_accuracy: 0.8288 - 538ms/epoch - 2ms/step\n",
      "Epoch 21/200\n",
      "225/225 - 1s - loss: 0.4293 - accuracy: 0.8154 - val_loss: 0.4041 - val_accuracy: 0.8288 - 683ms/epoch - 3ms/step\n",
      "Epoch 22/200\n",
      "225/225 - 1s - loss: 0.4301 - accuracy: 0.8164 - val_loss: 0.4033 - val_accuracy: 0.8288 - 588ms/epoch - 3ms/step\n",
      "Epoch 23/200\n",
      "225/225 - 1s - loss: 0.4284 - accuracy: 0.8181 - val_loss: 0.4014 - val_accuracy: 0.8325 - 556ms/epoch - 2ms/step\n",
      "Epoch 24/200\n",
      "225/225 - 1s - loss: 0.4292 - accuracy: 0.8178 - val_loss: 0.4004 - val_accuracy: 0.8325 - 548ms/epoch - 2ms/step\n",
      "Epoch 25/200\n",
      "225/225 - 1s - loss: 0.4283 - accuracy: 0.8211 - val_loss: 0.3989 - val_accuracy: 0.8338 - 563ms/epoch - 3ms/step\n",
      "Epoch 26/200\n",
      "225/225 - 1s - loss: 0.4237 - accuracy: 0.8231 - val_loss: 0.3965 - val_accuracy: 0.8363 - 559ms/epoch - 2ms/step\n",
      "Epoch 27/200\n",
      "225/225 - 1s - loss: 0.4232 - accuracy: 0.8225 - val_loss: 0.3953 - val_accuracy: 0.8375 - 705ms/epoch - 3ms/step\n",
      "Epoch 28/200\n",
      "225/225 - 1s - loss: 0.4248 - accuracy: 0.8247 - val_loss: 0.3961 - val_accuracy: 0.8350 - 511ms/epoch - 2ms/step\n",
      "Epoch 29/200\n",
      "225/225 - 1s - loss: 0.4250 - accuracy: 0.8236 - val_loss: 0.3946 - val_accuracy: 0.8363 - 727ms/epoch - 3ms/step\n",
      "Epoch 30/200\n",
      "225/225 - 1s - loss: 0.4228 - accuracy: 0.8249 - val_loss: 0.3937 - val_accuracy: 0.8350 - 602ms/epoch - 3ms/step\n",
      "Epoch 31/200\n",
      "225/225 - 1s - loss: 0.4210 - accuracy: 0.8261 - val_loss: 0.3919 - val_accuracy: 0.8363 - 603ms/epoch - 3ms/step\n",
      "Epoch 32/200\n",
      "225/225 - 1s - loss: 0.4238 - accuracy: 0.8225 - val_loss: 0.3934 - val_accuracy: 0.8363 - 646ms/epoch - 3ms/step\n",
      "Epoch 33/200\n",
      "225/225 - 1s - loss: 0.4220 - accuracy: 0.8246 - val_loss: 0.3932 - val_accuracy: 0.8363 - 520ms/epoch - 2ms/step\n",
      "Epoch 34/200\n",
      "225/225 - 1s - loss: 0.4204 - accuracy: 0.8265 - val_loss: 0.3913 - val_accuracy: 0.8375 - 615ms/epoch - 3ms/step\n",
      "Epoch 35/200\n",
      "225/225 - 1s - loss: 0.4201 - accuracy: 0.8251 - val_loss: 0.3924 - val_accuracy: 0.8363 - 1s/epoch - 5ms/step\n",
      "Epoch 36/200\n",
      "225/225 - 1s - loss: 0.4186 - accuracy: 0.8274 - val_loss: 0.3932 - val_accuracy: 0.8350 - 592ms/epoch - 3ms/step\n",
      "Epoch 37/200\n",
      "225/225 - 1s - loss: 0.4216 - accuracy: 0.8249 - val_loss: 0.3927 - val_accuracy: 0.8350 - 534ms/epoch - 2ms/step\n",
      "Epoch 38/200\n",
      "225/225 - 1s - loss: 0.4198 - accuracy: 0.8278 - val_loss: 0.3923 - val_accuracy: 0.8363 - 605ms/epoch - 3ms/step\n",
      "Epoch 39/200\n",
      "225/225 - 0s - loss: 0.4174 - accuracy: 0.8289 - val_loss: 0.3921 - val_accuracy: 0.8363 - 486ms/epoch - 2ms/step\n",
      "Epoch 40/200\n",
      "225/225 - 1s - loss: 0.4183 - accuracy: 0.8276 - val_loss: 0.3921 - val_accuracy: 0.8375 - 520ms/epoch - 2ms/step\n",
      "Epoch 41/200\n",
      "225/225 - 0s - loss: 0.4200 - accuracy: 0.8276 - val_loss: 0.3920 - val_accuracy: 0.8363 - 469ms/epoch - 2ms/step\n",
      "Epoch 42/200\n",
      "225/225 - 0s - loss: 0.4160 - accuracy: 0.8268 - val_loss: 0.3910 - val_accuracy: 0.8350 - 460ms/epoch - 2ms/step\n",
      "Epoch 43/200\n",
      "225/225 - 0s - loss: 0.4185 - accuracy: 0.8299 - val_loss: 0.3909 - val_accuracy: 0.8350 - 453ms/epoch - 2ms/step\n",
      "Epoch 44/200\n",
      "225/225 - 0s - loss: 0.4151 - accuracy: 0.8290 - val_loss: 0.3908 - val_accuracy: 0.8363 - 452ms/epoch - 2ms/step\n",
      "Epoch 45/200\n",
      "225/225 - 0s - loss: 0.4182 - accuracy: 0.8272 - val_loss: 0.3912 - val_accuracy: 0.8363 - 463ms/epoch - 2ms/step\n",
      "Epoch 46/200\n",
      "225/225 - 0s - loss: 0.4162 - accuracy: 0.8294 - val_loss: 0.3909 - val_accuracy: 0.8338 - 453ms/epoch - 2ms/step\n",
      "Epoch 47/200\n",
      "225/225 - 0s - loss: 0.4203 - accuracy: 0.8283 - val_loss: 0.3920 - val_accuracy: 0.8350 - 456ms/epoch - 2ms/step\n",
      "Epoch 48/200\n",
      "225/225 - 0s - loss: 0.4198 - accuracy: 0.8290 - val_loss: 0.3907 - val_accuracy: 0.8350 - 459ms/epoch - 2ms/step\n",
      "Epoch 49/200\n",
      "225/225 - 0s - loss: 0.4190 - accuracy: 0.8272 - val_loss: 0.3915 - val_accuracy: 0.8363 - 496ms/epoch - 2ms/step\n",
      "Epoch 50/200\n",
      "225/225 - 1s - loss: 0.4175 - accuracy: 0.8301 - val_loss: 0.3920 - val_accuracy: 0.8388 - 500ms/epoch - 2ms/step\n",
      "Epoch 51/200\n",
      "225/225 - 0s - loss: 0.4160 - accuracy: 0.8300 - val_loss: 0.3919 - val_accuracy: 0.8388 - 467ms/epoch - 2ms/step\n",
      "Epoch 52/200\n",
      "225/225 - 0s - loss: 0.4153 - accuracy: 0.8308 - val_loss: 0.3905 - val_accuracy: 0.8375 - 482ms/epoch - 2ms/step\n",
      "Epoch 53/200\n",
      "225/225 - 0s - loss: 0.4150 - accuracy: 0.8308 - val_loss: 0.3907 - val_accuracy: 0.8388 - 453ms/epoch - 2ms/step\n",
      "Epoch 54/200\n",
      "225/225 - 0s - loss: 0.4155 - accuracy: 0.8288 - val_loss: 0.3905 - val_accuracy: 0.8388 - 457ms/epoch - 2ms/step\n",
      "Epoch 55/200\n",
      "225/225 - 0s - loss: 0.4169 - accuracy: 0.8283 - val_loss: 0.3906 - val_accuracy: 0.8375 - 460ms/epoch - 2ms/step\n",
      "Epoch 56/200\n",
      "225/225 - 0s - loss: 0.4162 - accuracy: 0.8288 - val_loss: 0.3905 - val_accuracy: 0.8375 - 467ms/epoch - 2ms/step\n",
      "Epoch 57/200\n",
      "225/225 - 0s - loss: 0.4176 - accuracy: 0.8315 - val_loss: 0.3903 - val_accuracy: 0.8363 - 452ms/epoch - 2ms/step\n",
      "Epoch 58/200\n",
      "225/225 - 0s - loss: 0.4173 - accuracy: 0.8300 - val_loss: 0.3898 - val_accuracy: 0.8375 - 458ms/epoch - 2ms/step\n",
      "Epoch 59/200\n",
      "225/225 - 0s - loss: 0.4154 - accuracy: 0.8297 - val_loss: 0.3904 - val_accuracy: 0.8375 - 462ms/epoch - 2ms/step\n",
      "Epoch 60/200\n",
      "225/225 - 0s - loss: 0.4161 - accuracy: 0.8282 - val_loss: 0.3914 - val_accuracy: 0.8375 - 463ms/epoch - 2ms/step\n",
      "Epoch 61/200\n",
      "225/225 - 0s - loss: 0.4173 - accuracy: 0.8286 - val_loss: 0.3913 - val_accuracy: 0.8375 - 446ms/epoch - 2ms/step\n",
      "Epoch 62/200\n",
      "225/225 - 0s - loss: 0.4174 - accuracy: 0.8275 - val_loss: 0.3922 - val_accuracy: 0.8363 - 445ms/epoch - 2ms/step\n",
      "Epoch 63/200\n",
      "225/225 - 0s - loss: 0.4138 - accuracy: 0.8303 - val_loss: 0.3900 - val_accuracy: 0.8400 - 443ms/epoch - 2ms/step\n",
      "Epoch 64/200\n",
      "225/225 - 0s - loss: 0.4173 - accuracy: 0.8276 - val_loss: 0.3911 - val_accuracy: 0.8363 - 446ms/epoch - 2ms/step\n",
      "Epoch 65/200\n",
      "225/225 - 0s - loss: 0.4181 - accuracy: 0.8281 - val_loss: 0.3911 - val_accuracy: 0.8350 - 449ms/epoch - 2ms/step\n",
      "Epoch 66/200\n",
      "225/225 - 0s - loss: 0.4152 - accuracy: 0.8290 - val_loss: 0.3911 - val_accuracy: 0.8363 - 492ms/epoch - 2ms/step\n",
      "Epoch 67/200\n",
      "225/225 - 0s - loss: 0.4175 - accuracy: 0.8292 - val_loss: 0.3925 - val_accuracy: 0.8338 - 489ms/epoch - 2ms/step\n",
      "Epoch 68/200\n",
      "225/225 - 1s - loss: 0.4133 - accuracy: 0.8300 - val_loss: 0.3905 - val_accuracy: 0.8388 - 674ms/epoch - 3ms/step\n",
      "Epoch 69/200\n",
      "225/225 - 1s - loss: 0.4156 - accuracy: 0.8296 - val_loss: 0.3904 - val_accuracy: 0.8388 - 659ms/epoch - 3ms/step\n",
      "Epoch 70/200\n",
      "225/225 - 1s - loss: 0.4147 - accuracy: 0.8308 - val_loss: 0.3920 - val_accuracy: 0.8350 - 648ms/epoch - 3ms/step\n",
      "Epoch 71/200\n",
      "225/225 - 1s - loss: 0.4143 - accuracy: 0.8311 - val_loss: 0.3917 - val_accuracy: 0.8375 - 650ms/epoch - 3ms/step\n",
      "Epoch 72/200\n",
      "225/225 - 1s - loss: 0.4175 - accuracy: 0.8265 - val_loss: 0.3920 - val_accuracy: 0.8338 - 1s/epoch - 5ms/step\n",
      "Epoch 73/200\n",
      "225/225 - 1s - loss: 0.4174 - accuracy: 0.8318 - val_loss: 0.3923 - val_accuracy: 0.8350 - 1s/epoch - 5ms/step\n",
      "Epoch 74/200\n",
      "225/225 - 1s - loss: 0.4152 - accuracy: 0.8293 - val_loss: 0.3930 - val_accuracy: 0.8325 - 816ms/epoch - 4ms/step\n",
      "Epoch 75/200\n",
      "225/225 - 1s - loss: 0.4144 - accuracy: 0.8292 - val_loss: 0.3921 - val_accuracy: 0.8350 - 605ms/epoch - 3ms/step\n",
      "Epoch 76/200\n",
      "225/225 - 1s - loss: 0.4176 - accuracy: 0.8279 - val_loss: 0.3920 - val_accuracy: 0.8338 - 635ms/epoch - 3ms/step\n",
      "Epoch 77/200\n",
      "225/225 - 1s - loss: 0.4141 - accuracy: 0.8306 - val_loss: 0.3929 - val_accuracy: 0.8375 - 570ms/epoch - 3ms/step\n",
      "Epoch 78/200\n",
      "225/225 - 1s - loss: 0.4176 - accuracy: 0.8311 - val_loss: 0.3934 - val_accuracy: 0.8325 - 810ms/epoch - 4ms/step\n",
      "Epoch 79/200\n",
      "225/225 - 1s - loss: 0.4154 - accuracy: 0.8301 - val_loss: 0.3924 - val_accuracy: 0.8338 - 591ms/epoch - 3ms/step\n",
      "Epoch 80/200\n",
      "225/225 - 1s - loss: 0.4159 - accuracy: 0.8307 - val_loss: 0.3923 - val_accuracy: 0.8338 - 698ms/epoch - 3ms/step\n",
      "Epoch 81/200\n",
      "225/225 - 0s - loss: 0.4145 - accuracy: 0.8308 - val_loss: 0.3898 - val_accuracy: 0.8400 - 466ms/epoch - 2ms/step\n",
      "Epoch 82/200\n",
      "225/225 - 0s - loss: 0.4139 - accuracy: 0.8294 - val_loss: 0.3908 - val_accuracy: 0.8375 - 456ms/epoch - 2ms/step\n",
      "Epoch 83/200\n",
      "225/225 - 0s - loss: 0.4156 - accuracy: 0.8290 - val_loss: 0.3911 - val_accuracy: 0.8350 - 454ms/epoch - 2ms/step\n",
      "Epoch 84/200\n",
      "225/225 - 0s - loss: 0.4142 - accuracy: 0.8313 - val_loss: 0.3906 - val_accuracy: 0.8363 - 456ms/epoch - 2ms/step\n",
      "Epoch 85/200\n",
      "225/225 - 0s - loss: 0.4154 - accuracy: 0.8289 - val_loss: 0.3907 - val_accuracy: 0.8363 - 452ms/epoch - 2ms/step\n",
      "Epoch 86/200\n",
      "225/225 - 0s - loss: 0.4129 - accuracy: 0.8311 - val_loss: 0.3909 - val_accuracy: 0.8350 - 446ms/epoch - 2ms/step\n",
      "Epoch 87/200\n",
      "225/225 - 0s - loss: 0.4183 - accuracy: 0.8278 - val_loss: 0.3910 - val_accuracy: 0.8338 - 442ms/epoch - 2ms/step\n",
      "Epoch 88/200\n",
      "225/225 - 0s - loss: 0.4132 - accuracy: 0.8296 - val_loss: 0.3911 - val_accuracy: 0.8338 - 443ms/epoch - 2ms/step\n",
      "Epoch 89/200\n",
      "225/225 - 0s - loss: 0.4189 - accuracy: 0.8301 - val_loss: 0.3911 - val_accuracy: 0.8375 - 459ms/epoch - 2ms/step\n",
      "Epoch 90/200\n",
      "225/225 - 0s - loss: 0.4119 - accuracy: 0.8303 - val_loss: 0.3915 - val_accuracy: 0.8375 - 453ms/epoch - 2ms/step\n",
      "Epoch 91/200\n",
      "225/225 - 0s - loss: 0.4182 - accuracy: 0.8288 - val_loss: 0.3908 - val_accuracy: 0.8363 - 467ms/epoch - 2ms/step\n",
      "Epoch 92/200\n",
      "225/225 - 0s - loss: 0.4150 - accuracy: 0.8293 - val_loss: 0.3911 - val_accuracy: 0.8350 - 444ms/epoch - 2ms/step\n",
      "Epoch 93/200\n",
      "225/225 - 0s - loss: 0.4155 - accuracy: 0.8299 - val_loss: 0.3911 - val_accuracy: 0.8363 - 454ms/epoch - 2ms/step\n",
      "Epoch 94/200\n",
      "225/225 - 0s - loss: 0.4137 - accuracy: 0.8290 - val_loss: 0.3914 - val_accuracy: 0.8350 - 453ms/epoch - 2ms/step\n",
      "Epoch 95/200\n",
      "225/225 - 0s - loss: 0.4199 - accuracy: 0.8286 - val_loss: 0.3923 - val_accuracy: 0.8350 - 453ms/epoch - 2ms/step\n",
      "Epoch 96/200\n",
      "225/225 - 0s - loss: 0.4157 - accuracy: 0.8294 - val_loss: 0.3913 - val_accuracy: 0.8363 - 469ms/epoch - 2ms/step\n",
      "Epoch 97/200\n",
      "225/225 - 0s - loss: 0.4145 - accuracy: 0.8285 - val_loss: 0.3900 - val_accuracy: 0.8350 - 457ms/epoch - 2ms/step\n",
      "Epoch 98/200\n",
      "225/225 - 0s - loss: 0.4179 - accuracy: 0.8299 - val_loss: 0.3918 - val_accuracy: 0.8363 - 446ms/epoch - 2ms/step\n",
      "Epoch 99/200\n",
      "225/225 - 0s - loss: 0.4154 - accuracy: 0.8293 - val_loss: 0.3903 - val_accuracy: 0.8363 - 450ms/epoch - 2ms/step\n",
      "Epoch 100/200\n",
      "225/225 - 0s - loss: 0.4154 - accuracy: 0.8303 - val_loss: 0.3900 - val_accuracy: 0.8375 - 454ms/epoch - 2ms/step\n",
      "Epoch 101/200\n",
      "225/225 - 0s - loss: 0.4131 - accuracy: 0.8300 - val_loss: 0.3899 - val_accuracy: 0.8350 - 455ms/epoch - 2ms/step\n",
      "Epoch 102/200\n",
      "225/225 - 1s - loss: 0.4156 - accuracy: 0.8307 - val_loss: 0.3907 - val_accuracy: 0.8350 - 510ms/epoch - 2ms/step\n",
      "Epoch 103/200\n",
      "225/225 - 0s - loss: 0.4154 - accuracy: 0.8283 - val_loss: 0.3909 - val_accuracy: 0.8363 - 450ms/epoch - 2ms/step\n",
      "Epoch 104/200\n",
      "225/225 - 1s - loss: 0.4136 - accuracy: 0.8304 - val_loss: 0.3903 - val_accuracy: 0.8350 - 503ms/epoch - 2ms/step\n",
      "Epoch 105/200\n",
      "225/225 - 0s - loss: 0.4148 - accuracy: 0.8308 - val_loss: 0.3908 - val_accuracy: 0.8338 - 440ms/epoch - 2ms/step\n",
      "Epoch 106/200\n",
      "225/225 - 0s - loss: 0.4153 - accuracy: 0.8293 - val_loss: 0.3906 - val_accuracy: 0.8350 - 446ms/epoch - 2ms/step\n",
      "Epoch 107/200\n",
      "225/225 - 0s - loss: 0.4186 - accuracy: 0.8290 - val_loss: 0.3899 - val_accuracy: 0.8350 - 441ms/epoch - 2ms/step\n",
      "Epoch 108/200\n",
      "225/225 - 0s - loss: 0.4136 - accuracy: 0.8303 - val_loss: 0.3895 - val_accuracy: 0.8350 - 446ms/epoch - 2ms/step\n",
      "Epoch 109/200\n",
      "225/225 - 0s - loss: 0.4147 - accuracy: 0.8308 - val_loss: 0.3885 - val_accuracy: 0.8338 - 443ms/epoch - 2ms/step\n",
      "Epoch 110/200\n",
      "225/225 - 1s - loss: 0.4136 - accuracy: 0.8325 - val_loss: 0.3909 - val_accuracy: 0.8325 - 536ms/epoch - 2ms/step\n",
      "Epoch 111/200\n",
      "225/225 - 0s - loss: 0.4149 - accuracy: 0.8314 - val_loss: 0.3913 - val_accuracy: 0.8338 - 452ms/epoch - 2ms/step\n",
      "Epoch 112/200\n",
      "225/225 - 1s - loss: 0.4140 - accuracy: 0.8315 - val_loss: 0.3906 - val_accuracy: 0.8363 - 519ms/epoch - 2ms/step\n",
      "Epoch 113/200\n",
      "225/225 - 0s - loss: 0.4150 - accuracy: 0.8306 - val_loss: 0.3898 - val_accuracy: 0.8338 - 444ms/epoch - 2ms/step\n",
      "Epoch 114/200\n",
      "225/225 - 0s - loss: 0.4137 - accuracy: 0.8313 - val_loss: 0.3895 - val_accuracy: 0.8350 - 447ms/epoch - 2ms/step\n",
      "Epoch 115/200\n",
      "225/225 - 0s - loss: 0.4155 - accuracy: 0.8276 - val_loss: 0.3895 - val_accuracy: 0.8363 - 447ms/epoch - 2ms/step\n",
      "Epoch 116/200\n",
      "225/225 - 0s - loss: 0.4166 - accuracy: 0.8304 - val_loss: 0.3892 - val_accuracy: 0.8350 - 444ms/epoch - 2ms/step\n",
      "Epoch 117/200\n",
      "225/225 - 0s - loss: 0.4144 - accuracy: 0.8307 - val_loss: 0.3899 - val_accuracy: 0.8350 - 461ms/epoch - 2ms/step\n",
      "Epoch 118/200\n",
      "225/225 - 0s - loss: 0.4147 - accuracy: 0.8301 - val_loss: 0.3917 - val_accuracy: 0.8313 - 440ms/epoch - 2ms/step\n",
      "Epoch 119/200\n",
      "225/225 - 0s - loss: 0.4157 - accuracy: 0.8297 - val_loss: 0.3914 - val_accuracy: 0.8338 - 455ms/epoch - 2ms/step\n",
      "Epoch 120/200\n",
      "225/225 - 0s - loss: 0.4110 - accuracy: 0.8319 - val_loss: 0.3911 - val_accuracy: 0.8350 - 445ms/epoch - 2ms/step\n",
      "Epoch 121/200\n",
      "225/225 - 1s - loss: 0.4140 - accuracy: 0.8303 - val_loss: 0.3916 - val_accuracy: 0.8325 - 569ms/epoch - 3ms/step\n",
      "Epoch 122/200\n",
      "225/225 - 0s - loss: 0.4156 - accuracy: 0.8310 - val_loss: 0.3913 - val_accuracy: 0.8338 - 455ms/epoch - 2ms/step\n",
      "Epoch 123/200\n",
      "225/225 - 1s - loss: 0.4107 - accuracy: 0.8306 - val_loss: 0.3911 - val_accuracy: 0.8350 - 591ms/epoch - 3ms/step\n",
      "Epoch 124/200\n",
      "225/225 - 1s - loss: 0.4128 - accuracy: 0.8297 - val_loss: 0.3902 - val_accuracy: 0.8325 - 566ms/epoch - 3ms/step\n",
      "Epoch 125/200\n",
      "225/225 - 0s - loss: 0.4155 - accuracy: 0.8313 - val_loss: 0.3907 - val_accuracy: 0.8350 - 454ms/epoch - 2ms/step\n",
      "Epoch 126/200\n",
      "225/225 - 0s - loss: 0.4144 - accuracy: 0.8313 - val_loss: 0.3914 - val_accuracy: 0.8338 - 451ms/epoch - 2ms/step\n",
      "Epoch 127/200\n",
      "225/225 - 0s - loss: 0.4121 - accuracy: 0.8311 - val_loss: 0.3909 - val_accuracy: 0.8338 - 450ms/epoch - 2ms/step\n",
      "Epoch 128/200\n",
      "225/225 - 0s - loss: 0.4147 - accuracy: 0.8301 - val_loss: 0.3899 - val_accuracy: 0.8338 - 450ms/epoch - 2ms/step\n",
      "Epoch 129/200\n",
      "225/225 - 0s - loss: 0.4126 - accuracy: 0.8297 - val_loss: 0.3897 - val_accuracy: 0.8338 - 454ms/epoch - 2ms/step\n",
      "Epoch 130/200\n",
      "225/225 - 0s - loss: 0.4171 - accuracy: 0.8299 - val_loss: 0.3907 - val_accuracy: 0.8338 - 448ms/epoch - 2ms/step\n",
      "Epoch 131/200\n",
      "225/225 - 0s - loss: 0.4160 - accuracy: 0.8288 - val_loss: 0.3908 - val_accuracy: 0.8363 - 448ms/epoch - 2ms/step\n",
      "Epoch 132/200\n",
      "225/225 - 0s - loss: 0.4122 - accuracy: 0.8317 - val_loss: 0.3897 - val_accuracy: 0.8338 - 454ms/epoch - 2ms/step\n",
      "Epoch 133/200\n",
      "225/225 - 0s - loss: 0.4082 - accuracy: 0.8325 - val_loss: 0.3889 - val_accuracy: 0.8363 - 442ms/epoch - 2ms/step\n",
      "Epoch 134/200\n",
      "225/225 - 0s - loss: 0.4138 - accuracy: 0.8325 - val_loss: 0.3897 - val_accuracy: 0.8350 - 448ms/epoch - 2ms/step\n",
      "Epoch 135/200\n",
      "225/225 - 0s - loss: 0.4105 - accuracy: 0.8310 - val_loss: 0.3895 - val_accuracy: 0.8300 - 450ms/epoch - 2ms/step\n",
      "Epoch 136/200\n",
      "225/225 - 0s - loss: 0.4127 - accuracy: 0.8314 - val_loss: 0.3891 - val_accuracy: 0.8325 - 443ms/epoch - 2ms/step\n",
      "Epoch 137/200\n",
      "225/225 - 0s - loss: 0.4137 - accuracy: 0.8286 - val_loss: 0.3886 - val_accuracy: 0.8325 - 442ms/epoch - 2ms/step\n",
      "Epoch 138/200\n",
      "225/225 - 0s - loss: 0.4126 - accuracy: 0.8325 - val_loss: 0.3910 - val_accuracy: 0.8300 - 447ms/epoch - 2ms/step\n",
      "Epoch 139/200\n",
      "225/225 - 0s - loss: 0.4142 - accuracy: 0.8300 - val_loss: 0.3906 - val_accuracy: 0.8325 - 456ms/epoch - 2ms/step\n",
      "Epoch 140/200\n",
      "225/225 - 0s - loss: 0.4140 - accuracy: 0.8300 - val_loss: 0.3906 - val_accuracy: 0.8313 - 443ms/epoch - 2ms/step\n",
      "Epoch 141/200\n",
      "225/225 - 0s - loss: 0.4110 - accuracy: 0.8319 - val_loss: 0.3892 - val_accuracy: 0.8350 - 442ms/epoch - 2ms/step\n",
      "Epoch 142/200\n",
      "225/225 - 0s - loss: 0.4133 - accuracy: 0.8315 - val_loss: 0.3905 - val_accuracy: 0.8313 - 440ms/epoch - 2ms/step\n",
      "Epoch 143/200\n",
      "225/225 - 0s - loss: 0.4120 - accuracy: 0.8318 - val_loss: 0.3908 - val_accuracy: 0.8288 - 452ms/epoch - 2ms/step\n",
      "Epoch 144/200\n",
      "225/225 - 0s - loss: 0.4127 - accuracy: 0.8324 - val_loss: 0.3907 - val_accuracy: 0.8325 - 453ms/epoch - 2ms/step\n",
      "Epoch 145/200\n",
      "225/225 - 0s - loss: 0.4120 - accuracy: 0.8304 - val_loss: 0.3912 - val_accuracy: 0.8313 - 450ms/epoch - 2ms/step\n",
      "Epoch 146/200\n",
      "225/225 - 0s - loss: 0.4092 - accuracy: 0.8336 - val_loss: 0.3913 - val_accuracy: 0.8313 - 443ms/epoch - 2ms/step\n",
      "Epoch 147/200\n",
      "225/225 - 0s - loss: 0.4120 - accuracy: 0.8306 - val_loss: 0.3907 - val_accuracy: 0.8300 - 492ms/epoch - 2ms/step\n",
      "Epoch 148/200\n",
      "225/225 - 0s - loss: 0.4101 - accuracy: 0.8319 - val_loss: 0.3895 - val_accuracy: 0.8313 - 442ms/epoch - 2ms/step\n",
      "Epoch 149/200\n",
      "225/225 - 0s - loss: 0.4121 - accuracy: 0.8301 - val_loss: 0.3885 - val_accuracy: 0.8350 - 448ms/epoch - 2ms/step\n",
      "Epoch 150/200\n",
      "225/225 - 0s - loss: 0.4120 - accuracy: 0.8292 - val_loss: 0.3897 - val_accuracy: 0.8313 - 443ms/epoch - 2ms/step\n",
      "Epoch 151/200\n",
      "225/225 - 0s - loss: 0.4130 - accuracy: 0.8307 - val_loss: 0.3899 - val_accuracy: 0.8313 - 452ms/epoch - 2ms/step\n",
      "Epoch 152/200\n",
      "225/225 - 0s - loss: 0.4132 - accuracy: 0.8301 - val_loss: 0.3892 - val_accuracy: 0.8300 - 449ms/epoch - 2ms/step\n",
      "Epoch 153/200\n",
      "225/225 - 0s - loss: 0.4089 - accuracy: 0.8325 - val_loss: 0.3865 - val_accuracy: 0.8313 - 446ms/epoch - 2ms/step\n",
      "Epoch 154/200\n",
      "225/225 - 0s - loss: 0.4157 - accuracy: 0.8292 - val_loss: 0.3885 - val_accuracy: 0.8325 - 451ms/epoch - 2ms/step\n",
      "Epoch 155/200\n",
      "225/225 - 0s - loss: 0.4094 - accuracy: 0.8311 - val_loss: 0.3869 - val_accuracy: 0.8350 - 441ms/epoch - 2ms/step\n",
      "Epoch 156/200\n",
      "225/225 - 0s - loss: 0.4102 - accuracy: 0.8322 - val_loss: 0.3882 - val_accuracy: 0.8338 - 452ms/epoch - 2ms/step\n",
      "Epoch 157/200\n",
      "225/225 - 0s - loss: 0.4139 - accuracy: 0.8293 - val_loss: 0.3878 - val_accuracy: 0.8300 - 439ms/epoch - 2ms/step\n",
      "Epoch 158/200\n",
      "225/225 - 0s - loss: 0.4144 - accuracy: 0.8299 - val_loss: 0.3886 - val_accuracy: 0.8288 - 447ms/epoch - 2ms/step\n",
      "Epoch 159/200\n",
      "225/225 - 0s - loss: 0.4152 - accuracy: 0.8289 - val_loss: 0.3858 - val_accuracy: 0.8388 - 448ms/epoch - 2ms/step\n",
      "Epoch 160/200\n",
      "225/225 - 0s - loss: 0.4123 - accuracy: 0.8324 - val_loss: 0.3864 - val_accuracy: 0.8325 - 449ms/epoch - 2ms/step\n",
      "Epoch 161/200\n",
      "225/225 - 0s - loss: 0.4109 - accuracy: 0.8306 - val_loss: 0.3858 - val_accuracy: 0.8363 - 470ms/epoch - 2ms/step\n",
      "Epoch 162/200\n",
      "225/225 - 0s - loss: 0.4122 - accuracy: 0.8297 - val_loss: 0.3869 - val_accuracy: 0.8313 - 447ms/epoch - 2ms/step\n",
      "Epoch 163/200\n",
      "225/225 - 0s - loss: 0.4084 - accuracy: 0.8300 - val_loss: 0.3865 - val_accuracy: 0.8325 - 443ms/epoch - 2ms/step\n",
      "Epoch 164/200\n",
      "225/225 - 0s - loss: 0.4144 - accuracy: 0.8265 - val_loss: 0.3866 - val_accuracy: 0.8363 - 440ms/epoch - 2ms/step\n",
      "Epoch 165/200\n",
      "225/225 - 0s - loss: 0.4100 - accuracy: 0.8317 - val_loss: 0.3858 - val_accuracy: 0.8338 - 454ms/epoch - 2ms/step\n",
      "Epoch 166/200\n",
      "225/225 - 0s - loss: 0.4117 - accuracy: 0.8306 - val_loss: 0.3854 - val_accuracy: 0.8363 - 444ms/epoch - 2ms/step\n",
      "Epoch 167/200\n",
      "225/225 - 0s - loss: 0.4104 - accuracy: 0.8286 - val_loss: 0.3886 - val_accuracy: 0.8313 - 447ms/epoch - 2ms/step\n",
      "Epoch 168/200\n",
      "225/225 - 0s - loss: 0.4100 - accuracy: 0.8311 - val_loss: 0.3862 - val_accuracy: 0.8363 - 451ms/epoch - 2ms/step\n",
      "Epoch 169/200\n",
      "225/225 - 0s - loss: 0.4111 - accuracy: 0.8276 - val_loss: 0.3867 - val_accuracy: 0.8338 - 459ms/epoch - 2ms/step\n",
      "Epoch 170/200\n",
      "225/225 - 0s - loss: 0.4088 - accuracy: 0.8318 - val_loss: 0.3868 - val_accuracy: 0.8325 - 444ms/epoch - 2ms/step\n",
      "Epoch 171/200\n",
      "225/225 - 0s - loss: 0.4109 - accuracy: 0.8294 - val_loss: 0.3878 - val_accuracy: 0.8325 - 456ms/epoch - 2ms/step\n",
      "Epoch 172/200\n",
      "225/225 - 0s - loss: 0.4126 - accuracy: 0.8294 - val_loss: 0.3873 - val_accuracy: 0.8350 - 448ms/epoch - 2ms/step\n",
      "Epoch 173/200\n",
      "225/225 - 0s - loss: 0.4122 - accuracy: 0.8319 - val_loss: 0.3884 - val_accuracy: 0.8325 - 447ms/epoch - 2ms/step\n",
      "Epoch 174/200\n",
      "225/225 - 0s - loss: 0.4077 - accuracy: 0.8319 - val_loss: 0.3871 - val_accuracy: 0.8350 - 458ms/epoch - 2ms/step\n",
      "Epoch 175/200\n",
      "225/225 - 0s - loss: 0.4114 - accuracy: 0.8325 - val_loss: 0.3874 - val_accuracy: 0.8338 - 454ms/epoch - 2ms/step\n",
      "Epoch 176/200\n",
      "225/225 - 0s - loss: 0.4083 - accuracy: 0.8318 - val_loss: 0.3875 - val_accuracy: 0.8350 - 453ms/epoch - 2ms/step\n",
      "Epoch 177/200\n",
      "225/225 - 0s - loss: 0.4075 - accuracy: 0.8318 - val_loss: 0.3874 - val_accuracy: 0.8300 - 444ms/epoch - 2ms/step\n",
      "Epoch 178/200\n",
      "225/225 - 0s - loss: 0.4084 - accuracy: 0.8314 - val_loss: 0.3860 - val_accuracy: 0.8350 - 451ms/epoch - 2ms/step\n",
      "Epoch 179/200\n",
      "225/225 - 0s - loss: 0.4100 - accuracy: 0.8318 - val_loss: 0.3861 - val_accuracy: 0.8363 - 442ms/epoch - 2ms/step\n",
      "Epoch 180/200\n",
      "225/225 - 0s - loss: 0.4121 - accuracy: 0.8308 - val_loss: 0.3881 - val_accuracy: 0.8325 - 444ms/epoch - 2ms/step\n",
      "Epoch 181/200\n",
      "225/225 - 0s - loss: 0.4069 - accuracy: 0.8325 - val_loss: 0.3876 - val_accuracy: 0.8313 - 443ms/epoch - 2ms/step\n",
      "Epoch 182/200\n",
      "225/225 - 0s - loss: 0.4116 - accuracy: 0.8324 - val_loss: 0.3873 - val_accuracy: 0.8313 - 446ms/epoch - 2ms/step\n",
      "Epoch 183/200\n",
      "225/225 - 0s - loss: 0.4114 - accuracy: 0.8303 - val_loss: 0.3875 - val_accuracy: 0.8338 - 472ms/epoch - 2ms/step\n",
      "Epoch 184/200\n",
      "225/225 - 0s - loss: 0.4090 - accuracy: 0.8319 - val_loss: 0.3874 - val_accuracy: 0.8338 - 448ms/epoch - 2ms/step\n",
      "Epoch 185/200\n",
      "225/225 - 0s - loss: 0.4122 - accuracy: 0.8289 - val_loss: 0.3876 - val_accuracy: 0.8350 - 444ms/epoch - 2ms/step\n",
      "Epoch 186/200\n",
      "225/225 - 0s - loss: 0.4114 - accuracy: 0.8304 - val_loss: 0.3884 - val_accuracy: 0.8325 - 450ms/epoch - 2ms/step\n",
      "Epoch 187/200\n",
      "225/225 - 0s - loss: 0.4144 - accuracy: 0.8285 - val_loss: 0.3880 - val_accuracy: 0.8325 - 459ms/epoch - 2ms/step\n",
      "Epoch 188/200\n",
      "225/225 - 0s - loss: 0.4087 - accuracy: 0.8308 - val_loss: 0.3863 - val_accuracy: 0.8338 - 480ms/epoch - 2ms/step\n",
      "Epoch 189/200\n",
      "225/225 - 0s - loss: 0.4073 - accuracy: 0.8319 - val_loss: 0.3865 - val_accuracy: 0.8338 - 444ms/epoch - 2ms/step\n",
      "Epoch 190/200\n",
      "225/225 - 0s - loss: 0.4118 - accuracy: 0.8306 - val_loss: 0.3881 - val_accuracy: 0.8325 - 442ms/epoch - 2ms/step\n",
      "Epoch 191/200\n",
      "225/225 - 0s - loss: 0.4056 - accuracy: 0.8332 - val_loss: 0.3879 - val_accuracy: 0.8338 - 461ms/epoch - 2ms/step\n",
      "Epoch 192/200\n",
      "225/225 - 0s - loss: 0.4083 - accuracy: 0.8336 - val_loss: 0.3869 - val_accuracy: 0.8338 - 487ms/epoch - 2ms/step\n",
      "Epoch 193/200\n",
      "225/225 - 0s - loss: 0.4094 - accuracy: 0.8307 - val_loss: 0.3869 - val_accuracy: 0.8325 - 477ms/epoch - 2ms/step\n",
      "Epoch 194/200\n",
      "225/225 - 0s - loss: 0.4071 - accuracy: 0.8342 - val_loss: 0.3869 - val_accuracy: 0.8350 - 449ms/epoch - 2ms/step\n",
      "Epoch 195/200\n",
      "225/225 - 0s - loss: 0.4085 - accuracy: 0.8318 - val_loss: 0.3883 - val_accuracy: 0.8325 - 458ms/epoch - 2ms/step\n",
      "Epoch 196/200\n",
      "225/225 - 0s - loss: 0.4092 - accuracy: 0.8326 - val_loss: 0.3890 - val_accuracy: 0.8313 - 446ms/epoch - 2ms/step\n",
      "Epoch 197/200\n",
      "225/225 - 0s - loss: 0.4071 - accuracy: 0.8314 - val_loss: 0.3879 - val_accuracy: 0.8338 - 448ms/epoch - 2ms/step\n",
      "Epoch 198/200\n",
      "225/225 - 0s - loss: 0.4105 - accuracy: 0.8313 - val_loss: 0.3885 - val_accuracy: 0.8338 - 455ms/epoch - 2ms/step\n",
      "Epoch 199/200\n",
      "225/225 - 0s - loss: 0.4086 - accuracy: 0.8296 - val_loss: 0.3872 - val_accuracy: 0.8350 - 446ms/epoch - 2ms/step\n",
      "Epoch 200/200\n",
      "225/225 - 0s - loss: 0.4091 - accuracy: 0.8314 - val_loss: 0.3860 - val_accuracy: 0.8338 - 456ms/epoch - 2ms/step\n"
     ]
    }
   ],
   "source": [
    "#Fitting the Neural Network\n",
    "history = classifier.fit(X_train, y_train, batch_size = 32, epochs = 200, validation_split = 0.1, verbose = 2)"
   ]
  },
  {
   "cell_type": "code",
   "execution_count": 18,
   "metadata": {
    "colab": {
     "base_uri": "https://localhost:8080/"
    },
    "id": "aq1-eNM2YqL8",
    "outputId": "0fd0fa0a-cf54-4637-f8b6-f15342002a15"
   },
   "outputs": [
    {
     "name": "stdout",
     "output_type": "stream",
     "text": [
      "63/63 [==============================] - 0s 2ms/step\n",
      "[[0.30769533]\n",
      " [0.2888924 ]\n",
      " [0.20967652]\n",
      " [0.09640507]\n",
      " [0.2126437 ]]\n"
     ]
    }
   ],
   "source": [
    "y_pred = classifier.predict(X_test)\n",
    "print(y_pred[:5])"
   ]
  },
  {
   "cell_type": "code",
   "execution_count": 19,
   "metadata": {
    "colab": {
     "base_uri": "https://localhost:8080/"
    },
    "id": "S8JJz5bLY-7I",
    "outputId": "00827497-0dfb-49c4-d70b-2071d70ae5f0"
   },
   "outputs": [
    {
     "name": "stdout",
     "output_type": "stream",
     "text": [
      "[[0]\n",
      " [0]\n",
      " [0]\n",
      " [0]\n",
      " [0]]\n"
     ]
    }
   ],
   "source": [
    "#Let us use confusion matrix with cutoff value as 0.5\n",
    "y_pred = (y_pred > 0.5).astype(int)\n",
    "print(y_pred[:5])"
   ]
  },
  {
   "cell_type": "code",
   "execution_count": 20,
   "metadata": {
    "colab": {
     "base_uri": "https://localhost:8080/"
    },
    "id": "Bcyv6h2UZPbO",
    "outputId": "6ca6b222-2516-4b03-c081-1ba7feaa6817"
   },
   "outputs": [
    {
     "name": "stdout",
     "output_type": "stream",
     "text": [
      "[[1573   22]\n",
      " [ 294  111]]\n"
     ]
    }
   ],
   "source": [
    "#Making the Matrix\n",
    "from sklearn.metrics import confusion_matrix\n",
    "cm = confusion_matrix(y_test, y_pred)\n",
    "print(cm)"
   ]
  },
  {
   "cell_type": "code",
   "execution_count": 21,
   "metadata": {
    "colab": {
     "base_uri": "https://localhost:8080/"
    },
    "id": "l3weViSLZc1v",
    "outputId": "64895b62-30f8-4e86-e592-d3fae20b2673"
   },
   "outputs": [
    {
     "name": "stdout",
     "output_type": "stream",
     "text": [
      "84.2 % of data was classified correctly\n"
     ]
    }
   ],
   "source": [
    "#Accuracy of our NN\n",
    "print(((cm[0][0] + cm[1][1])* 100) / len(y_test), '% of data was classified correctly')"
   ]
  }
 ],
 "metadata": {
  "colab": {
   "provenance": []
  },
  "interpreter": {
   "hash": "f82e9eef39fec3b4432bd3d531b07136b7f172564442eec42315ae171445fe6f"
  },
  "kernelspec": {
   "display_name": "Python 3 (ipykernel)",
   "language": "python",
   "name": "python3"
  },
  "language_info": {
   "codemirror_mode": {
    "name": "ipython",
    "version": 3
   },
   "file_extension": ".py",
   "mimetype": "text/x-python",
   "name": "python",
   "nbconvert_exporter": "python",
   "pygments_lexer": "ipython3",
   "version": "3.11.6"
  }
 },
 "nbformat": 4,
 "nbformat_minor": 1
}
